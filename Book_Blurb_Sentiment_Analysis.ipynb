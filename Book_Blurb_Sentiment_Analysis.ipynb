{
 "cells": [
  {
   "cell_type": "code",
   "execution_count": null,
   "metadata": {},
   "outputs": [
    {
     "data": {
      "text/html": [
       "<div>\n",
       "<style scoped>\n",
       "    .dataframe tbody tr th:only-of-type {\n",
       "        vertical-align: middle;\n",
       "    }\n",
       "\n",
       "    .dataframe tbody tr th {\n",
       "        vertical-align: top;\n",
       "    }\n",
       "\n",
       "    .dataframe thead th {\n",
       "        text-align: right;\n",
       "    }\n",
       "</style>\n",
       "<table border=\"1\" class=\"dataframe\">\n",
       "  <thead>\n",
       "    <tr style=\"text-align: right;\">\n",
       "      <th></th>\n",
       "      <th>ISBN</th>\n",
       "      <th>Title</th>\n",
       "      <th>Author</th>\n",
       "      <th>Year</th>\n",
       "      <th>Publisher</th>\n",
       "      <th>Blurb</th>\n",
       "    </tr>\n",
       "  </thead>\n",
       "  <tbody>\n",
       "    <tr>\n",
       "      <th>0</th>\n",
       "      <td>0060973129</td>\n",
       "      <td>Decision in Normandy</td>\n",
       "      <td>Carlo D'Este</td>\n",
       "      <td>1991</td>\n",
       "      <td>HarperPerennial</td>\n",
       "      <td>Here, for the first time in paperback, is an o...</td>\n",
       "    </tr>\n",
       "    <tr>\n",
       "      <th>1</th>\n",
       "      <td>0374157065</td>\n",
       "      <td>Flu: The Story of the Great Influenza Pandemic...</td>\n",
       "      <td>Gina Bari Kolata</td>\n",
       "      <td>1999</td>\n",
       "      <td>Farrar Straus Giroux</td>\n",
       "      <td>The fascinating, true story of the world's dea...</td>\n",
       "    </tr>\n",
       "    <tr>\n",
       "      <th>2</th>\n",
       "      <td>0399135782</td>\n",
       "      <td>The Kitchen God's Wife</td>\n",
       "      <td>Amy Tan</td>\n",
       "      <td>1991</td>\n",
       "      <td>Putnam Pub Group</td>\n",
       "      <td>Winnie and Helen have kept each others worst s...</td>\n",
       "    </tr>\n",
       "    <tr>\n",
       "      <th>3</th>\n",
       "      <td>0425176428</td>\n",
       "      <td>What If?: The World's Foremost Military Histor...</td>\n",
       "      <td>Robert Cowley</td>\n",
       "      <td>2000</td>\n",
       "      <td>Berkley Publishing Group</td>\n",
       "      <td>Historians and inquisitive laymen alike love t...</td>\n",
       "    </tr>\n",
       "    <tr>\n",
       "      <th>4</th>\n",
       "      <td>1881320189</td>\n",
       "      <td>Goodbye to the Buttermilk Sky</td>\n",
       "      <td>Julia Oliver</td>\n",
       "      <td>1994</td>\n",
       "      <td>River City Pub</td>\n",
       "      <td>This highly praised first novel by fiction wri...</td>\n",
       "    </tr>\n",
       "  </tbody>\n",
       "</table>\n",
       "</div>"
      ],
      "text/plain": [
       "         ISBN                                              Title  \\\n",
       "0  0060973129                               Decision in Normandy   \n",
       "1  0374157065  Flu: The Story of the Great Influenza Pandemic...   \n",
       "2  0399135782                             The Kitchen God's Wife   \n",
       "3  0425176428  What If?: The World's Foremost Military Histor...   \n",
       "4  1881320189                      Goodbye to the Buttermilk Sky   \n",
       "\n",
       "             Author  Year                 Publisher  \\\n",
       "0      Carlo D'Este  1991           HarperPerennial   \n",
       "1  Gina Bari Kolata  1999      Farrar Straus Giroux   \n",
       "2           Amy Tan  1991          Putnam Pub Group   \n",
       "3     Robert Cowley  2000  Berkley Publishing Group   \n",
       "4      Julia Oliver  1994            River City Pub   \n",
       "\n",
       "                                               Blurb  \n",
       "0  Here, for the first time in paperback, is an o...  \n",
       "1  The fascinating, true story of the world's dea...  \n",
       "2  Winnie and Helen have kept each others worst s...  \n",
       "3  Historians and inquisitive laymen alike love t...  \n",
       "4  This highly praised first novel by fiction wri...  "
      ]
     },
     "execution_count": 1,
     "metadata": {},
     "output_type": "execute_result"
    }
   ],
   "source": [
    "#Improrting libraries\n",
    "import pandas as pd\n",
    "import numpy as np\n",
    "from sklearn.model_selection import train_test_split\n",
    "from sklearn.preprocessing import LabelEncoder\n",
    "from tensorflow.keras.preprocessing.text import Tokenizer\n",
    "from tensorflow.keras.preprocessing.sequence import pad_sequences\n",
    "from tensorflow.keras.models import Sequential\n",
    "from tensorflow.keras.layers import Embedding, LSTM, Dense\n",
    "\n",
    "# Load the dataset\n",
    "df = pd.read_csv('books_with_blurbs.csv')\n",
    "\n",
    "# Display the first few rows and basic information about the dataset\n",
    "df.head()\n"
   ]
  },
  {
   "cell_type": "markdown",
   "metadata": {},
   "source": [
    "Exploring the data"
   ]
  },
  {
   "cell_type": "code",
   "execution_count": 2,
   "metadata": {},
   "outputs": [
    {
     "data": {
      "text/plain": [
       "<bound method DataFrame.info of              ISBN                                              Title  \\\n",
       "0      0060973129                               Decision in Normandy   \n",
       "1      0374157065  Flu: The Story of the Great Influenza Pandemic...   \n",
       "2      0399135782                             The Kitchen God's Wife   \n",
       "3      0425176428  What If?: The World's Foremost Military Histor...   \n",
       "4      1881320189                      Goodbye to the Buttermilk Sky   \n",
       "...           ...                                                ...   \n",
       "57505  0451458877                                      Tainted Trail   \n",
       "57506  0399148736                                  Twelve Mile Limit   \n",
       "57507  0399148841       The Man With the Red Tattoo (James Bond 007)   \n",
       "57508  0553578979       Iron Fist (Star Wars: X-Wing Series, Book 6)   \n",
       "57509  0345391101  The Adventures of Lando Calrissian: Lando Calr...   \n",
       "\n",
       "                  Author  Year                 Publisher  \\\n",
       "0           Carlo D'Este  1991           HarperPerennial   \n",
       "1       Gina Bari Kolata  1999      Farrar Straus Giroux   \n",
       "2                Amy Tan  1991          Putnam Pub Group   \n",
       "3          Robert Cowley  2000  Berkley Publishing Group   \n",
       "4           Julia Oliver  1994            River City Pub   \n",
       "...                  ...   ...                       ...   \n",
       "57505        Wen Spencer  2002                       Roc   \n",
       "57506  Randy Wayne White  2002            Penguin Putnam   \n",
       "57507     Raymond Benson  2002   Putnam Publishing Group   \n",
       "57508      Aaron Allston  1998                    Bantam   \n",
       "57509      L. Neil Smith  1994             Del Rey Books   \n",
       "\n",
       "                                                   Blurb  \n",
       "0      Here, for the first time in paperback, is an o...  \n",
       "1      The fascinating, true story of the world's dea...  \n",
       "2      Winnie and Helen have kept each others worst s...  \n",
       "3      Historians and inquisitive laymen alike love t...  \n",
       "4      This highly praised first novel by fiction wri...  \n",
       "...                                                  ...  \n",
       "57505  Ukiah Oregon, half-man and half-alien raised b...  \n",
       "57506  On a Friday in early November, four people hea...  \n",
       "57507  On a quiet late-night flight from Tokyo to Lon...  \n",
       "57508  They are the Rebel Alliance's ultimate strike ...  \n",
       "57509  For the price of one, you get three Lando Calr...  \n",
       "\n",
       "[57510 rows x 6 columns]>"
      ]
     },
     "execution_count": 2,
     "metadata": {},
     "output_type": "execute_result"
    }
   ],
   "source": [
    "df.info"
   ]
  },
  {
   "cell_type": "code",
   "execution_count": 3,
   "metadata": {},
   "outputs": [
    {
     "data": {
      "text/plain": [
       "<bound method NDFrame.describe of              ISBN                                              Title  \\\n",
       "0      0060973129                               Decision in Normandy   \n",
       "1      0374157065  Flu: The Story of the Great Influenza Pandemic...   \n",
       "2      0399135782                             The Kitchen God's Wife   \n",
       "3      0425176428  What If?: The World's Foremost Military Histor...   \n",
       "4      1881320189                      Goodbye to the Buttermilk Sky   \n",
       "...           ...                                                ...   \n",
       "57505  0451458877                                      Tainted Trail   \n",
       "57506  0399148736                                  Twelve Mile Limit   \n",
       "57507  0399148841       The Man With the Red Tattoo (James Bond 007)   \n",
       "57508  0553578979       Iron Fist (Star Wars: X-Wing Series, Book 6)   \n",
       "57509  0345391101  The Adventures of Lando Calrissian: Lando Calr...   \n",
       "\n",
       "                  Author  Year                 Publisher  \\\n",
       "0           Carlo D'Este  1991           HarperPerennial   \n",
       "1       Gina Bari Kolata  1999      Farrar Straus Giroux   \n",
       "2                Amy Tan  1991          Putnam Pub Group   \n",
       "3          Robert Cowley  2000  Berkley Publishing Group   \n",
       "4           Julia Oliver  1994            River City Pub   \n",
       "...                  ...   ...                       ...   \n",
       "57505        Wen Spencer  2002                       Roc   \n",
       "57506  Randy Wayne White  2002            Penguin Putnam   \n",
       "57507     Raymond Benson  2002   Putnam Publishing Group   \n",
       "57508      Aaron Allston  1998                    Bantam   \n",
       "57509      L. Neil Smith  1994             Del Rey Books   \n",
       "\n",
       "                                                   Blurb  \n",
       "0      Here, for the first time in paperback, is an o...  \n",
       "1      The fascinating, true story of the world's dea...  \n",
       "2      Winnie and Helen have kept each others worst s...  \n",
       "3      Historians and inquisitive laymen alike love t...  \n",
       "4      This highly praised first novel by fiction wri...  \n",
       "...                                                  ...  \n",
       "57505  Ukiah Oregon, half-man and half-alien raised b...  \n",
       "57506  On a Friday in early November, four people hea...  \n",
       "57507  On a quiet late-night flight from Tokyo to Lon...  \n",
       "57508  They are the Rebel Alliance's ultimate strike ...  \n",
       "57509  For the price of one, you get three Lando Calr...  \n",
       "\n",
       "[57510 rows x 6 columns]>"
      ]
     },
     "execution_count": 3,
     "metadata": {},
     "output_type": "execute_result"
    }
   ],
   "source": [
    "df.describe"
   ]
  },
  {
   "cell_type": "code",
   "execution_count": 4,
   "metadata": {},
   "outputs": [
    {
     "data": {
      "text/plain": [
       "(57510, 6)"
      ]
     },
     "execution_count": 4,
     "metadata": {},
     "output_type": "execute_result"
    }
   ],
   "source": [
    "df.shape"
   ]
  },
  {
   "cell_type": "code",
   "execution_count": 5,
   "metadata": {},
   "outputs": [
    {
     "data": {
      "text/plain": [
       "ISBN         0\n",
       "Title        0\n",
       "Author       0\n",
       "Year         0\n",
       "Publisher    0\n",
       "Blurb        0\n",
       "dtype: int64"
      ]
     },
     "execution_count": 5,
     "metadata": {},
     "output_type": "execute_result"
    }
   ],
   "source": [
    "df.isna().sum()"
   ]
  },
  {
   "cell_type": "markdown",
   "metadata": {},
   "source": [
    "<b>Data Preprocessing</b>\n",
    "\n",
    "We’ll clean the blurbs by:\n",
    "- Lowercasing\n",
    "- Removing punctuation, digits, special characters\n",
    "- Tokenizing text (splitting into words)\n",
    "- Removing stopwords"
   ]
  },
  {
   "cell_type": "code",
   "execution_count": 9,
   "metadata": {},
   "outputs": [
    {
     "name": "stderr",
     "output_type": "stream",
     "text": [
      "[nltk_data] Downloading package stopwords to\n",
      "[nltk_data]     C:\\Users\\HP\\AppData\\Roaming\\nltk_data...\n",
      "[nltk_data]   Unzipping corpora\\stopwords.zip.\n"
     ]
    }
   ],
   "source": [
    "import re\n",
    "import nltk\n",
    "nltk.download('stopwords')\n",
    "from nltk.corpus import stopwords\n",
    "\n",
    "stop_words = set(stopwords.words('english'))\n",
    "\n",
    "def preprocess_blurb(text):\n",
    "    text = text.lower()\n",
    "    text = re.sub(r'[^a-z\\s]', '', text)  # remove punctuation and digits\n",
    "    text = re.sub(r'\\s+', ' ', text).strip()\n",
    "    tokens = text.split()\n",
    "    tokens = [word for word in tokens if word not in stop_words]\n",
    "    return ' '.join(tokens)\n",
    "\n",
    "df['cleaned_blurb'] = df['Blurb'].apply(preprocess_blurb)\n"
   ]
  },
  {
   "cell_type": "markdown",
   "metadata": {},
   "source": [
    "<b>Feature Extraction</b>\n",
    "\n",
    "We convert text into numerical features:\n",
    "- Using TF-IDF to capture word importance\n",
    "- Using pre-trained sentiment lexicons (e.g., VADER) to generate labels"
   ]
  },
  {
   "cell_type": "code",
   "execution_count": 10,
   "metadata": {},
   "outputs": [],
   "source": [
    "from sklearn.feature_extraction.text import TfidfVectorizer\n",
    "\n",
    "vectorizer = TfidfVectorizer(max_features=5000)\n",
    "X = vectorizer.fit_transform(df['cleaned_blurb'])\n"
   ]
  },
  {
   "cell_type": "markdown",
   "metadata": {},
   "source": [
    "<b>Sentiment Labeling</b> \n",
    "- Generating sentiment labels automatically using VADER"
   ]
  },
  {
   "cell_type": "code",
   "execution_count": 11,
   "metadata": {},
   "outputs": [
    {
     "name": "stderr",
     "output_type": "stream",
     "text": [
      "[nltk_data] Downloading package vader_lexicon to\n",
      "[nltk_data]     C:\\Users\\HP\\AppData\\Roaming\\nltk_data...\n"
     ]
    }
   ],
   "source": [
    "from nltk.sentiment.vader import SentimentIntensityAnalyzer\n",
    "nltk.download('vader_lexicon')\n",
    "\n",
    "sid = SentimentIntensityAnalyzer()\n",
    "\n",
    "def get_sentiment_label(text):\n",
    "    score = sid.polarity_scores(text)['compound']\n",
    "    if score >= 0.05:\n",
    "        return 'positive'\n",
    "    elif score <= -0.05:\n",
    "        return 'negative'\n",
    "    else:\n",
    "        return 'neutral'\n",
    "\n",
    "df['sentiment'] = df['Blurb'].apply(get_sentiment_label)\n"
   ]
  },
  {
   "cell_type": "markdown",
   "metadata": {},
   "source": [
    "<b> Model Training and Evaluation</b>"
   ]
  },
  {
   "cell_type": "code",
   "execution_count": 12,
   "metadata": {},
   "outputs": [
    {
     "name": "stdout",
     "output_type": "stream",
     "text": [
      "              precision    recall  f1-score   support\n",
      "\n",
      "    negative       0.80      0.59      0.68      3967\n",
      "     neutral       0.32      0.22      0.26       558\n",
      "    positive       0.77      0.91      0.83      6977\n",
      "\n",
      "    accuracy                           0.76     11502\n",
      "   macro avg       0.63      0.57      0.59     11502\n",
      "weighted avg       0.76      0.76      0.75     11502\n",
      "\n"
     ]
    }
   ],
   "source": [
    "from sklearn.model_selection import train_test_split\n",
    "from sklearn.naive_bayes import MultinomialNB\n",
    "from sklearn.metrics import classification_report\n",
    "\n",
    "X_train, X_test, y_train, y_test = train_test_split(X, df['sentiment'], test_size=0.2, random_state=42)\n",
    "\n",
    "model = MultinomialNB()\n",
    "model.fit(X_train, y_train)\n",
    "y_pred = model.predict(X_test)\n",
    "\n",
    "print(classification_report(y_test, y_pred))"
   ]
  },
  {
   "cell_type": "markdown",
   "metadata": {},
   "source": [
    "<b> Visualizing Sentiment Distribution</b>"
   ]
  },
  {
   "cell_type": "code",
   "execution_count": 13,
   "metadata": {},
   "outputs": [
    {
     "name": "stderr",
     "output_type": "stream",
     "text": [
      "C:\\Users\\HP\\AppData\\Local\\Temp\\ipykernel_37396\\3358122449.py:9: FutureWarning: \n",
      "\n",
      "Passing `palette` without assigning `hue` is deprecated and will be removed in v0.14.0. Assign the `x` variable to `hue` and set `legend=False` for the same effect.\n",
      "\n",
      "  sns.countplot(x='sentiment', data=df, palette='coolwarm', order=['positive', 'neutral', 'negative'])\n"
     ]
    },
    {
     "data": {
      "image/png": "[encoded data removed]",
      "text/plain": [
       "<Figure size 800x500 with 1 Axes>"
      ]
     },
     "metadata": {},
     "output_type": "display_data"
    }
   ],
   "source": [
    "import matplotlib.pyplot as plt\n",
    "import seaborn as sns\n",
    "\n",
    "# Set plot style\n",
    "sns.set(style='whitegrid')\n",
    "\n",
    "# Countplot\n",
    "plt.figure(figsize=(8, 5))\n",
    "sns.countplot(x='sentiment', data=df, palette='coolwarm', order=['positive', 'neutral', 'negative'])\n",
    "plt.title('Distribution of Sentiment in Book Blurbs')\n",
    "plt.xlabel('Sentiment')\n",
    "plt.ylabel('Number of Blurbs')\n",
    "plt.show()\n"
   ]
  },
  {
   "cell_type": "code",
   "execution_count": null,
   "metadata": {},
   "outputs": [
    {
     "name": "stdout",
     "output_type": "stream",
     "text": [
      "sentiment\n",
      "positive    60.636411\n",
      "negative    34.562685\n",
      "neutral      4.800904\n",
      "Name: proportion, dtype: float64\n"
     ]
    }
   ],
   "source": [
    "#Checking percentage breakdown of sentiments\n",
    "sentiment_counts = df['sentiment'].value_counts(normalize=True) * 100\n",
    "print(sentiment_counts)\n"
   ]
  },
  {
   "cell_type": "markdown",
   "metadata": {},
   "source": [
    "<b>Fine-Tuning the Classifier</b>\n",
    "\n",
    "We'll try multiple models and compare them using F1-score:\n",
    "- Multinomial Naive Bayes (NB)\n",
    "- Support Vector Machine (SVM)\n",
    "- Random Forest (RF)\n",
    "- Logistic Regression (LR)"
   ]
  },
  {
   "cell_type": "code",
   "execution_count": 19,
   "metadata": {},
   "outputs": [
    {
     "name": "stdout",
     "output_type": "stream",
     "text": [
      "\n",
      "Model: Naive Bayes\n",
      "Accuracy: 0.763, F1-Score: 0.752\n",
      "              precision    recall  f1-score   support\n",
      "\n",
      "    negative      0.798     0.586     0.675      3967\n",
      "     neutral      0.317     0.220     0.260       558\n",
      "    positive      0.772     0.908     0.835      6977\n",
      "\n",
      "    accuracy                          0.763     11502\n",
      "   macro avg      0.629     0.571     0.590     11502\n",
      "weighted avg      0.759     0.763     0.752     11502\n",
      "\n",
      "\n",
      "Model: Logistic Regression\n",
      "Accuracy: 0.849, F1-Score: 0.836\n",
      "              precision    recall  f1-score   support\n",
      "\n",
      "    negative      0.842     0.803     0.822      3967\n",
      "     neutral      0.718     0.142     0.237       558\n",
      "    positive      0.855     0.932     0.892      6977\n",
      "\n",
      "    accuracy                          0.849     11502\n",
      "   macro avg      0.805     0.626     0.650     11502\n",
      "weighted avg      0.844     0.849     0.836     11502\n",
      "\n",
      "\n",
      "Model: Random Forest\n",
      "Accuracy: 0.814, F1-Score: 0.804\n",
      "              precision    recall  f1-score   support\n",
      "\n",
      "    negative      0.814     0.708     0.757      3967\n",
      "     neutral      0.721     0.278     0.401       558\n",
      "    positive      0.816     0.917     0.863      6977\n",
      "\n",
      "    accuracy                          0.814     11502\n",
      "   macro avg      0.784     0.634     0.674     11502\n",
      "weighted avg      0.811     0.814     0.804     11502\n",
      "\n",
      "\n",
      "Model: SVM\n",
      "Accuracy: 0.856, F1-Score: 0.849\n",
      "              precision    recall  f1-score   support\n",
      "\n",
      "    negative      0.831     0.824     0.827      3967\n",
      "     neutral      0.670     0.276     0.391       558\n",
      "    positive      0.876     0.921     0.898      6977\n",
      "\n",
      "    accuracy                          0.856     11502\n",
      "   macro avg      0.792     0.674     0.705     11502\n",
      "weighted avg      0.850     0.856     0.849     11502\n",
      "\n",
      "\n",
      "Best model based on F1-score:\n",
      "                 Model  Accuracy  F1_score\n",
      "3                  SVM  0.856199  0.848880\n",
      "1  Logistic Regression  0.849331  0.835999\n",
      "2        Random Forest  0.813685  0.804411\n",
      "0          Naive Bayes  0.763346  0.751800\n",
      "\n",
      "✅ Predictions saved to: books_with_predicted_sentiment.csv\n"
     ]
    }
   ],
   "source": [
    "from sklearn.metrics import f1_score, accuracy_score\n",
    "import pandas as pd\n",
    "\n",
    "# Store results for comparison\n",
    "results = []\n",
    "\n",
    "for name, model in models.items():\n",
    "    model.fit(X_train, y_train)\n",
    "    y_pred = model.predict(X_test)\n",
    "    acc = accuracy_score(y_test, y_pred)\n",
    "    f1 = f1_score(y_test, y_pred, average='weighted')\n",
    "    results.append((name, acc, f1))\n",
    "    print(f\"\\nModel: {name}\")\n",
    "    print(f\"Accuracy: {acc:.3f}, F1-Score: {f1:.3f}\")\n",
    "    print(classification_report(y_test, y_pred, digits=3))\n",
    "\n",
    "# Convert to DataFrame\n",
    "results_df = pd.DataFrame(results, columns=[\"Model\", \"Accuracy\", \"F1_score\"])\n",
    "best_model_name = results_df.sort_values(by=\"F1_score\", ascending=False).iloc[0][\"Model\"]\n",
    "print(\"\\nBest model based on F1-score:\")\n",
    "print(results_df.sort_values(by=\"F1_score\", ascending=False))\n",
    "\n",
    "# Retrieve best model and make predictions on the full dataset\n",
    "best_model = models[best_model_name]\n",
    "df[\"predicted_sentiment\"] = best_model.fit(X_train, y_train).predict(X)\n",
    "\n",
    "# Save to CSV\n",
    "output_path = \"books_with_predicted_sentiment.csv\"\n",
    "df.to_csv(output_path, index=False)\n",
    "print(f\"\\n✅ Predictions saved to: {output_path}\")\n"
   ]
  },
  {
   "cell_type": "markdown",
   "metadata": {},
   "source": [
    "<b>Pick the best-performing model (by weighted F1-score)\n",
    "\n",
    "Save predictions to CSV\n",
    "</b>\n"
   ]
  },
  {
   "cell_type": "code",
   "execution_count": 20,
   "metadata": {},
   "outputs": [
    {
     "name": "stdout",
     "output_type": "stream",
     "text": [
      "\n",
      "Best model based on F1-score:\n",
      "                 Model  Accuracy  F1_score\n",
      "3                  SVM  0.856199  0.848880\n",
      "1  Logistic Regression  0.849331  0.835999\n",
      "2        Random Forest  0.813685  0.804411\n",
      "0          Naive Bayes  0.763346  0.751800\n"
     ]
    }
   ],
   "source": [
    "print(\"\\nBest model based on F1-score:\")\n",
    "print(results_df.sort_values(by=\"F1_score\", ascending=False))\n",
    "\n",
    "# Retrieve best model and make predictions on the full dataset\n",
    "best_model = models[best_model_name]\n",
    "df[\"predicted_sentiment\"] = best_model.fit(X_train, y_train).predict(X)"
   ]
  },
  {
   "cell_type": "markdown",
   "metadata": {},
   "source": [
    "<b>Apply GridSearchCV</b>"
   ]
  },
  {
   "cell_type": "code",
   "execution_count": 21,
   "metadata": {},
   "outputs": [
    {
     "name": "stdout",
     "output_type": "stream",
     "text": [
      "Fitting 3 folds for each of 6 candidates, totalling 18 fits\n",
      "\n",
      "Best parameters found:\n",
      "{'clf__C': 10, 'clf__solver': 'liblinear'}\n",
      "Best F1-score: 0.843\n"
     ]
    }
   ],
   "source": [
    "from sklearn.model_selection import GridSearchCV\n",
    "from sklearn.pipeline import Pipeline\n",
    "from sklearn.feature_extraction.text import TfidfVectorizer\n",
    "\n",
    "# Pipeline with vectorizer inside\n",
    "pipeline = Pipeline([\n",
    "    ('tfidf', TfidfVectorizer(max_features=5000)),\n",
    "    ('clf', LogisticRegression(max_iter=1000))\n",
    "])\n",
    "\n",
    "# Parameter grid\n",
    "param_grid = {\n",
    "    'clf__C': [0.1, 1, 10],\n",
    "    'clf__solver': ['liblinear', 'lbfgs']\n",
    "}\n",
    "\n",
    "grid = GridSearchCV(pipeline, param_grid, cv=3, scoring='f1_weighted', verbose=1)\n",
    "grid.fit(df['cleaned_blurb'], df['sentiment'])\n",
    "\n",
    "print(\"\\nBest parameters found:\")\n",
    "print(grid.best_params_)\n",
    "print(\"Best F1-score: {:.3f}\".format(grid.best_score_))\n"
   ]
  },
  {
   "cell_type": "markdown",
   "metadata": {},
   "source": [
    "Optionally, focusing on data preprocessing and feature engineering. It generates a simple sentiment score based on blurb length and cleans the text data."
   ]
  },
  {
   "cell_type": "code",
   "execution_count": 6,
   "metadata": {},
   "outputs": [],
   "source": [
    "import tensorflow"
   ]
  },
  {
   "cell_type": "code",
   "execution_count": null,
   "metadata": {},
   "outputs": [
    {
     "data": {
      "text/html": [
       "<div>\n",
       "<style scoped>\n",
       "    .dataframe tbody tr th:only-of-type {\n",
       "        vertical-align: middle;\n",
       "    }\n",
       "\n",
       "    .dataframe tbody tr th {\n",
       "        vertical-align: top;\n",
       "    }\n",
       "\n",
       "    .dataframe thead th {\n",
       "        text-align: right;\n",
       "    }\n",
       "</style>\n",
       "<table border=\"1\" class=\"dataframe\">\n",
       "  <thead>\n",
       "    <tr style=\"text-align: right;\">\n",
       "      <th></th>\n",
       "      <th>Title</th>\n",
       "      <th>processed_blurb</th>\n",
       "      <th>sentiment_score</th>\n",
       "    </tr>\n",
       "  </thead>\n",
       "  <tbody>\n",
       "    <tr>\n",
       "      <th>0</th>\n",
       "      <td>Decision in Normandy</td>\n",
       "      <td>here for the first time in paperback is an out...</td>\n",
       "      <td>0.015247</td>\n",
       "    </tr>\n",
       "    <tr>\n",
       "      <th>1</th>\n",
       "      <td>Flu: The Story of the Great Influenza Pandemic...</td>\n",
       "      <td>the fascinating true story of the worlds deadl...</td>\n",
       "      <td>0.069219</td>\n",
       "    </tr>\n",
       "    <tr>\n",
       "      <th>2</th>\n",
       "      <td>The Kitchen God's Wife</td>\n",
       "      <td>winnie and helen have kept each others worst s...</td>\n",
       "      <td>0.034067</td>\n",
       "    </tr>\n",
       "    <tr>\n",
       "      <th>3</th>\n",
       "      <td>What If?: The World's Foremost Military Histor...</td>\n",
       "      <td>historians and inquisitive laymen alike love t...</td>\n",
       "      <td>0.025391</td>\n",
       "    </tr>\n",
       "    <tr>\n",
       "      <th>4</th>\n",
       "      <td>Goodbye to the Buttermilk Sky</td>\n",
       "      <td>this highly praised first novel by fiction wri...</td>\n",
       "      <td>0.107241</td>\n",
       "    </tr>\n",
       "  </tbody>\n",
       "</table>\n",
       "</div>"
      ],
      "text/plain": [
       "                                               Title  \\\n",
       "0                               Decision in Normandy   \n",
       "1  Flu: The Story of the Great Influenza Pandemic...   \n",
       "2                             The Kitchen God's Wife   \n",
       "3  What If?: The World's Foremost Military Histor...   \n",
       "4                      Goodbye to the Buttermilk Sky   \n",
       "\n",
       "                                     processed_blurb  sentiment_score  \n",
       "0  here for the first time in paperback is an out...         0.015247  \n",
       "1  the fascinating true story of the worlds deadl...         0.069219  \n",
       "2  winnie and helen have kept each others worst s...         0.034067  \n",
       "3  historians and inquisitive laymen alike love t...         0.025391  \n",
       "4  this highly praised first novel by fiction wri...         0.107241  "
      ]
     },
     "execution_count": 7,
     "metadata": {},
     "output_type": "execute_result"
    }
   ],
   "source": [
    "import pandas as pd\n",
    "import numpy as np\n",
    "from sklearn.model_selection import train_test_split\n",
    "from sklearn.preprocessing import LabelEncoder\n",
    "from tensorflow.keras.preprocessing.text import Tokenizer\n",
    "from tensorflow.keras.preprocessing.sequence import pad_sequences\n",
    "import re\n",
    "\n",
    "# Load the dataset\n",
    "df = pd.read_csv('books_with_blurbs.csv')\n",
    "\n",
    "# Create a simple sentiment score based on blurb length\n",
    "df['sentiment_score'] = df['Blurb'].str.len() / df['Blurb'].str.len().max()\n",
    "\n",
    "# Preprocess the text data\n",
    "def preprocess_text(text):\n",
    "    # Convert to lowercase\n",
    "    text = text.lower()\n",
    "    # Remove special characters and digits\n",
    "    text = re.sub(r'[^a-zA-Z\\s]', '', text)\n",
    "    # Remove extra whitespace\n",
    "    text = re.sub(r'\\s+', ' ', text).strip()\n",
    "    return text\n",
    "\n",
    "df['processed_blurb'] = df['Blurb'].apply(preprocess_text)\n",
    "\n",
    "# Display the first few rows of the processed data\n",
    "df[['Title', 'processed_blurb', 'sentiment_score']].head()\n",
    "\n"
   ]
  },
  {
   "cell_type": "markdown",
   "metadata": {},
   "source": [
    "Building a deep learning model (LSTM) to predict sentiment scores from the processed blurbs. It splits the data, tokenizes the text, pads the sequences, and trains the model."
   ]
  },
  {
   "cell_type": "code",
   "execution_count": null,
   "metadata": {},
   "outputs": [
    {
     "name": "stderr",
     "output_type": "stream",
     "text": [
      "C:\\Users\\HP\\AppData\\Roaming\\Python\\Python312\\site-packages\\keras\\src\\layers\\core\\embedding.py:90: UserWarning: Argument `input_length` is deprecated. Just remove it.\n",
      "  warnings.warn(\n"
     ]
    },
    {
     "name": "stdout",
     "output_type": "stream",
     "text": [
      "Epoch 1/5\n",
      "\u001b[1m1151/1151\u001b[0m \u001b[32m━━━━━━━━━━━━━━━━━━━━\u001b[0m\u001b[37m\u001b[0m \u001b[1m89s\u001b[0m 67ms/step - loss: 0.0131 - mae: 0.0465 - val_loss: 5.4664e-04 - val_mae: 0.0112\n",
      "Epoch 2/5\n",
      "\u001b[1m1151/1151\u001b[0m \u001b[32m━━━━━━━━━━━━━━━━━━━━\u001b[0m\u001b[37m\u001b[0m \u001b[1m43s\u001b[0m 38ms/step - loss: 3.8462e-04 - mae: 0.0109 - val_loss: 5.3283e-04 - val_mae: 0.0110\n",
      "Epoch 3/5\n",
      "\u001b[1m1151/1151\u001b[0m \u001b[32m━━━━━━━━━━━━━━━━━━━━\u001b[0m\u001b[37m\u001b[0m \u001b[1m83s\u001b[0m 72ms/step - loss: 3.6028e-04 - mae: 0.0107 - val_loss: 5.1838e-04 - val_mae: 0.0114\n",
      "Epoch 4/5\n",
      "\u001b[1m1151/1151\u001b[0m \u001b[32m━━━━━━━━━━━━━━━━━━━━\u001b[0m\u001b[37m\u001b[0m \u001b[1m65s\u001b[0m 56ms/step - loss: 2.9958e-04 - mae: 0.0095 - val_loss: 5.5016e-04 - val_mae: 0.0123\n",
      "Epoch 5/5\n",
      "\u001b[1m1151/1151\u001b[0m \u001b[32m━━━━━━━━━━━━━━━━━━━━\u001b[0m\u001b[37m\u001b[0m \u001b[1m63s\u001b[0m 39ms/step - loss: 2.4671e-04 - mae: 0.0087 - val_loss: 5.5638e-04 - val_mae: 0.0115\n",
      "Test Mean Absolute Error: 0.0114\n",
      "\u001b[1m1/1\u001b[0m \u001b[32m━━━━━━━━━━━━━━━━━━━━\u001b[0m\u001b[37m\u001b[0m \u001b[1m0s\u001b[0m 339ms/step\n",
      "Text: a modern knight errant on a quest after evil convi...\n",
      "Predicted sentiment score: 0.0771\n",
      "Text: icy sparks an unforgettable heroine in the traditi...\n",
      "Predicted sentiment score: 0.0970\n",
      "Text: called elegantly starkly beautiful by the new york...\n",
      "Predicted sentiment score: 0.0626\n",
      "Model training and evaluation completed.\n"
     ]
    }
   ],
   "source": [
    "import pandas as pd\n",
    "import numpy as np\n",
    "from sklearn.model_selection import train_test_split\n",
    "from tensorflow.keras.preprocessing.text import Tokenizer\n",
    "from tensorflow.keras.preprocessing.sequence import pad_sequences\n",
    "from tensorflow.keras.models import Sequential\n",
    "from tensorflow.keras.layers import Embedding, LSTM, Dense\n",
    "\n",
    "# Load the preprocessed data\n",
    "df = pd.read_csv('books_with_blurbs.csv')\n",
    "df['sentiment_score'] = df['Blurb'].str.len() / df['Blurb'].str.len().max()\n",
    "df['processed_blurb'] = df['Blurb'].apply(lambda x: ' '.join(re.findall(r'\\w+', x.lower())))\n",
    "\n",
    "# Split the data\n",
    "X_train, X_test, y_train, y_test = train_test_split(df['processed_blurb'], df['sentiment_score'], test_size=0.2, random_state=42)\n",
    "\n",
    "# Tokenize the text\n",
    "max_words = 10000\n",
    "tokenizer = Tokenizer(num_words=max_words, oov_token='<OOV>')\n",
    "tokenizer.fit_on_texts(X_train)\n",
    "\n",
    "X_train_seq = tokenizer.texts_to_sequences(X_train)\n",
    "X_test_seq = tokenizer.texts_to_sequences(X_test)\n",
    "\n",
    "# Pad the sequences\n",
    "max_length = 100\n",
    "X_train_pad = pad_sequences(X_train_seq, maxlen=max_length, padding='post', truncating='post')\n",
    "X_test_pad = pad_sequences(X_test_seq, maxlen=max_length, padding='post', truncating='post')\n",
    "\n",
    "# Create the model\n",
    "model = Sequential([\n",
    "    Embedding(max_words, 16, input_length=max_length),\n",
    "    LSTM(32),\n",
    "    Dense(1, activation='sigmoid')\n",
    "])\n",
    "\n",
    "model.compile(optimizer='adam', loss='mean_squared_error', metrics=['mae'])\n",
    "\n",
    "# Train the model\n",
    "history = model.fit(X_train_pad, y_train, epochs=5, validation_split=0.2, batch_size=32, verbose=1)\n",
    "\n",
    "# Evaluate the model\n",
    "loss, mae = model.evaluate(X_test_pad, y_test, verbose=0)\n",
    "print(f'Test Mean Absolute Error: {mae:.4f}')\n",
    "\n",
    "# Make predictions on a few samples\n",
    "sample_texts = X_test[:3]\n",
    "sample_sequences = tokenizer.texts_to_sequences(sample_texts)\n",
    "sample_padded = pad_sequences(sample_sequences, maxlen=max_length, padding='post', truncating='post')\n",
    "predictions = model.predict(sample_padded)\n",
    "\n",
    "for text, pred in zip(sample_texts, predictions):\n",
    "    print(f'Text: {text[:50]}...')\n",
    "    print(f'Predicted sentiment score: {pred[0]:.4f}\\\n",
    "')\n",
    "\n",
    "print('Model training and evaluation completed.')"
   ]
  }
 ],
 "metadata": {
  "kernelspec": {
   "display_name": "Python 3",
   "language": "python",
   "name": "python3"
  },
  "language_info": {
   "codemirror_mode": {
    "name": "ipython",
    "version": 3
   },
   "file_extension": ".py",
   "mimetype": "text/x-python",
   "name": "python",
   "nbconvert_exporter": "python",
   "pygments_lexer": "ipython3",
   "version": "3.12.6"
  }
 },
 "nbformat": 4,
 "nbformat_minor": 2
}
